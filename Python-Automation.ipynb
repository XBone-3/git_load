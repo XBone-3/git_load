{
 "cells": [
  {
   "cell_type": "markdown",
   "id": "cc814b58",
   "metadata": {},
   "source": [
    "# Python Automation"
   ]
  },
  {
   "cell_type": "markdown",
   "id": "173d807e",
   "metadata": {},
   "source": [
    "## List of projects<a id=\"top\"></a>\n",
    "1. [ProofReading](#proofreading)\n",
    "> lmproof\n",
    "1. [Random Music](#random-music)\n",
    "> random,<br>os\n",
    "1. [PDF to CSV](#pdf-csv)\n",
    "> tabula\n",
    "1. [Photo Compressor](#photo-compressor)\n",
    "> PIL<br>tkinter\n",
    "1. [Youtube Video Downloader](#ytd)\n",
    "> pytube\n",
    "1. [Text to Speech](#tts)\n",
    "> pygame<br>gtts\n",
    "1. [Images to PDF](#img-pdf)\n",
    "> os<br>img2pdf<br>fpdf\n",
    "1. [Plagiarism Checker](#plagiarism-checker)\n",
    "> difflib\n",
    "1. [URLs Shorter](#urls)\n",
    "> contextlib<br>__future__\n",
    "1. [Internet Speed Tester](#speedtest)\n",
    "> speedtest-cli/speedtest"
   ]
  },
  {
   "cell_type": "markdown",
   "id": "956edab1",
   "metadata": {},
   "source": [
    "## ProofReading <a id=\"proofreading\"></a>\n"
   ]
  },
  {
   "cell_type": "code",
   "execution_count": 1,
   "id": "7f260efd",
   "metadata": {},
   "outputs": [
    {
     "ename": "ModuleNotFoundError",
     "evalue": "No module named 'lmproof'",
     "output_type": "error",
     "traceback": [
      "\u001b[1;31m---------------------------------------------------------------------------\u001b[0m",
      "\u001b[1;31mModuleNotFoundError\u001b[0m                       Traceback (most recent call last)",
      "Cell \u001b[1;32mIn [1], line 1\u001b[0m\n\u001b[1;32m----> 1\u001b[0m \u001b[38;5;28;01mimport\u001b[39;00m \u001b[38;5;21;01mlmproof\u001b[39;00m\n\u001b[0;32m      3\u001b[0m \u001b[38;5;28;01mdef\u001b[39;00m \u001b[38;5;21mproofread\u001b[39m(text):\n\u001b[0;32m      4\u001b[0m     proof_reader \u001b[38;5;241m=\u001b[39m lmproof\u001b[38;5;241m.\u001b[39mload(\u001b[38;5;124m\"\u001b[39m\u001b[38;5;124men\u001b[39m\u001b[38;5;124m\"\u001b[39m)\n",
      "\u001b[1;31mModuleNotFoundError\u001b[0m: No module named 'lmproof'"
     ]
    }
   ],
   "source": [
    "import lmproof\n",
    "\n",
    "def proofread(text):\n",
    "    proof_reader = lmproof.load(\"en\")\n",
    "    corrected_text = proof_reader.proofread(text)\n",
    "    print(f\"original: {text}\")\n",
    "    print(f'corrected: {corrected_text}')\n",
    "    return corrected_text\n",
    "\n",
    "proofread(\"these is apples.\")"
   ]
  },
  {
   "cell_type": "markdown",
   "id": "2ef2591e",
   "metadata": {},
   "source": [
    "### [List of Projects](#top)"
   ]
  },
  {
   "cell_type": "markdown",
   "id": "04bc9c03",
   "metadata": {},
   "source": [
    "## Random Music<a id=\"random-music\"></a>"
   ]
  },
  {
   "cell_type": "code",
   "execution_count": 14,
   "id": "10a1fe46",
   "metadata": {},
   "outputs": [],
   "source": [
    "import random, os\n",
    "\n",
    "path = \"c:/Users/Call me X/Downloads/Music/\"\n",
    "music_dir=[]\n",
    "music = []\n",
    "\n",
    "def paths(path):\n",
    "    with os.scandir(path) as items:\n",
    "        for item in items:\n",
    "            if item.is_dir():\n",
    "                paths(os.path.join(path, item.name))\n",
    "            else:\n",
    "                music_dir.append(path)\n",
    "                music.append(item.name)\n",
    "                \n",
    "paths(path)"
   ]
  },
  {
   "cell_type": "code",
   "execution_count": 16,
   "id": "b8dd4b6d",
   "metadata": {},
   "outputs": [
    {
     "name": "stdout",
     "output_type": "stream",
     "text": [
      "Ye Mera Jahan-My3Songs.Com.mp3\n"
     ]
    }
   ],
   "source": [
    "song = random.randint(0, len(music) - 1)\n",
    "print(music[song])\n",
    "os.startfile(os.path.join(music_dir[song], music[song]))"
   ]
  },
  {
   "cell_type": "markdown",
   "id": "2577a19c",
   "metadata": {},
   "source": [
    "### [List of Projects](#top)"
   ]
  },
  {
   "cell_type": "markdown",
   "id": "866dbf3d",
   "metadata": {},
   "source": [
    "## PDF to CSV <a id=\"pdf-csv\"></a>"
   ]
  },
  {
   "cell_type": "code",
   "execution_count": null,
   "id": "c0bd981b",
   "metadata": {},
   "outputs": [],
   "source": [
    "import tabula\n",
    "\n",
    "def covertpdf2csv(path):\n",
    "    tabula.convert_into(path, \"output.csv\", output_format=\"csv\", pages=\"all\")\n",
    "    \n",
    "convertpdf2csv(\"specify pdf file path here\")"
   ]
  },
  {
   "cell_type": "markdown",
   "id": "05522552",
   "metadata": {},
   "source": [
    "### [List of Projects](#top)"
   ]
  },
  {
   "cell_type": "markdown",
   "id": "823d9dfd",
   "metadata": {},
   "source": [
    "## Photo Compressor<a id=\"photo-compressor\"></a>"
   ]
  },
  {
   "cell_type": "code",
   "execution_count": null,
   "id": "ca60027b",
   "metadata": {},
   "outputs": [],
   "source": [
    "import PIL\n",
    "import tkinter"
   ]
  },
  {
   "cell_type": "markdown",
   "id": "d01e8adf",
   "metadata": {},
   "source": [
    "### [List of Projects](#top)"
   ]
  },
  {
   "cell_type": "markdown",
   "id": "f46f2411",
   "metadata": {},
   "source": [
    "## Text to Speech <a id=\"tts\"></a>"
   ]
  },
  {
   "cell_type": "code",
   "execution_count": 2,
   "id": "ca235c4c",
   "metadata": {},
   "outputs": [],
   "source": [
    "from gtts import gTTS\n",
    "from pygame import mixer\n",
    "import os\n",
    "import time\n",
    "\n",
    "def tts(text):\n",
    "    if os.path.isfile('speech_file.mp3'):\n",
    "        os.remove('speech_file.mp3')\n",
    "    sfile = gTTS(text).save(\"speech_file.mp3\")\n",
    "    mixer.init()\n",
    "    mixer.music.load('speech_file.mp3')\n",
    "    mixer.music.play()\n",
    "    time.sleep(3)\n",
    "    mixer.quit()\n",
    "    \n",
    "tts(\"hello\")"
   ]
  },
  {
   "cell_type": "markdown",
   "id": "67e02e07",
   "metadata": {},
   "source": [
    "### [List of Projects](#top)"
   ]
  },
  {
   "cell_type": "markdown",
   "id": "d05c5b64",
   "metadata": {},
   "source": [
    "## Internet Speed Checker <a id=\"speedtest\"></a>"
   ]
  },
  {
   "cell_type": "code",
   "execution_count": 1,
   "id": "80cfab13",
   "metadata": {},
   "outputs": [
    {
     "name": "stdout",
     "output_type": "stream",
     "text": [
      "Download Speed: 1.1984260333027537 Mb/s\n",
      "Upload Speed: 0.6152018639955891 Mb/s\n",
      "Ping: 51.953\n"
     ]
    }
   ],
   "source": [
    "import speedtest as st\n",
    "\n",
    "server = st.Speedtest()\n",
    "server.get_best_server()\n",
    "\n",
    "down = server.download()\n",
    "down = down / 10000000\n",
    "print(f'Download Speed: {down} Mb/s')\n",
    "\n",
    "up = server.upload()\n",
    "up = up / 10000000\n",
    "print(f'Upload Speed: {up} Mb/s')\n",
    "\n",
    "ping = server.results.ping\n",
    "print(f\"Ping: {ping}\")"
   ]
  },
  {
   "cell_type": "markdown",
   "id": "55c92ab4",
   "metadata": {},
   "source": [
    "### [List of Projects](#top)"
   ]
  },
  {
   "cell_type": "markdown",
   "id": "f3b2c096",
   "metadata": {},
   "source": [
    "## Youtube Video Downloader <a id=\"ytd\"></a>"
   ]
  },
  {
   "cell_type": "code",
   "execution_count": 7,
   "id": "2db6e1fd",
   "metadata": {},
   "outputs": [
    {
     "name": "stdout",
     "output_type": "stream",
     "text": [
      "enter link to the Youtube Video: https://www.youtube.com/watch?v=G7KNmW9a75Y&list=RDGMEMQ1dJ7wXfLlqCjwV0xfSNbAVM7F37r50VUTQ&index=10\n",
      "video downloaded https://www.youtube.com/watch?v=G7KNmW9a75Y&list=RDGMEMQ1dJ7wXfLlqCjwV0xfSNbAVM7F37r50VUTQ&index=10\n"
     ]
    }
   ],
   "source": [
    "import pytube\n",
    "\n",
    "link = input(\"enter link to the Youtube Video: \")\n",
    "video_download = pytube.YouTube(link)\n",
    "video_download.streams.filter(progressive=True, file_extension=\"mp4\").order_by('resolution').desc().first().download()\n",
    "print('video downloaded', link)"
   ]
  },
  {
   "cell_type": "markdown",
   "id": "9ab90d2a",
   "metadata": {},
   "source": [
    "### [List of Projects](#top)"
   ]
  },
  {
   "cell_type": "markdown",
   "id": "2b89e16c",
   "metadata": {},
   "source": [
    "## Plagiarism Checker<a id=\"plagiarism-checker\"></a>"
   ]
  },
  {
   "cell_type": "code",
   "execution_count": 9,
   "id": "9baebb1d",
   "metadata": {},
   "outputs": [
    {
     "name": "stdout",
     "output_type": "stream",
     "text": [
      "enter file1 path: prac.py\n",
      "enter file2 path: mdp.py\n",
      "plagiarism check found 2.2696568495001355% match on both files\n"
     ]
    }
   ],
   "source": [
    "from difflib import SequenceMatcher\n",
    "\n",
    "def plagiarism_checker(a, b):\n",
    "    with open(a,errors='ignore') as file1, open(b, errors='ignore') as file2:\n",
    "        file1_data = file1.read()\n",
    "        file2_data = file2.read()\n",
    "        return SequenceMatcher(None, file1_data, file2_data).ratio()\n",
    "        \n",
    "path_a = input(\"enter file1 path: \")\n",
    "path_b = input(\"enter file2 path: \")\n",
    "print(f'plagiarism check found {plagiarism_checker(path_a, path_b) * 100}% match on both files')"
   ]
  },
  {
   "cell_type": "markdown",
   "id": "d3d058ea",
   "metadata": {},
   "source": [
    "### [List of Projects](#top)"
   ]
  }
 ],
 "metadata": {
  "kernelspec": {
   "display_name": "Python 3 (ipykernel)",
   "language": "python",
   "name": "python3"
  },
  "language_info": {
   "codemirror_mode": {
    "name": "ipython",
    "version": 3
   },
   "file_extension": ".py",
   "mimetype": "text/x-python",
   "name": "python",
   "nbconvert_exporter": "python",
   "pygments_lexer": "ipython3",
   "version": "3.11.0"
  }
 },
 "nbformat": 4,
 "nbformat_minor": 5
}
